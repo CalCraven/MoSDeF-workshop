{
 "cells": [
  {
   "cell_type": "markdown",
   "metadata": {},
   "source": [
    "# Basic mBuild tutorial\n",
    "\n",
    "### _mBuild, a tool for programmatic system construction._\n",
    "\n",
    "The first of the MoSDeF tools we will explore is the [mBuild package](http://mosdef-hub.github.io/mbuild/), which utilizes a hierarchical, component-based approach to molecule construction, allowing complex systems to be built using a subset of re-usable parts, just like Legos! In this tutorial we will explore some of mBuild's basic functionality by constructing a linear alkane chain. We'll then examine how mBuild's component-based design approach allows components to be easily swapped to facilitate structural screening.\n",
    "\n",
    "<p align=\"center\">\n",
    "  <img src=\"../graphics/mbuild-mosdef.svg?raw=true\" alt=\"mBuild within the MoSDeF Ecosystem\" width=\"500\" height=\"500\"/>\n",
    "</p>"
   ]
  },
  {
   "cell_type": "markdown",
   "metadata": {},
   "source": [
    "### Hierarchical design approach\n",
    "\n",
    "mBuild uses a [composite design pattern](https://en.wikipedia.org/wiki/Composite_pattern) to approach the creation of complex molecular systems. This yields the following features:\n",
    "* Molecules feature a tree-like hierarchy (as shown in the figure below)\n",
    "* All components in the hierarchy feature a common data structure (an mBuild `Compound`)\n",
    "* The lowest level of the hierarchy (the 'leaves') are referred to as particles and are typically individual atoms\n",
    "* Atomic positions are maintained only at the particle level; higher level components can compute properties based on contained particles\n",
    "\n",
    "Below is an example of an mBuild molecule hierarchy for an alkylsilane monolayer attached to a crystalline silica surface.\n",
    "<img src=\"../graphics/hierarchical_design_image.png\" alt=\"Drawing\" style=\"width: 700px;\"/>"
   ]
  },
  {
   "cell_type": "markdown",
   "metadata": {},
   "source": [
    "### Importing mBuild\n",
    "\n",
    "To begin using mBuild we need to import the mBuild package, which is available through the [Anaconda](https://anaconda.org/conda-forge/mbuild) package managers. mBuild can also be downloaded from source, which is hosted on [Github](https://github.com/mosdef-hub/mbuild).\n",
    "\n",
    "Here, we'll import the mBuild package along with a visualize routine that will allow us to view our molecules along the way. The `%matplotlib notebook` routine is a Jupyter 'magic' command that allows us to interactively view matplotlib figures within a notebook."
   ]
  },
  {
   "cell_type": "code",
   "execution_count": 1,
   "metadata": {},
   "outputs": [
    {
     "name": "stderr",
     "output_type": "stream",
     "text": [
      "Warning: importing 'simtk.openmm' is deprecated.  Import 'openmm' instead.\n"
     ]
    }
   ],
   "source": [
    "%matplotlib notebook\n",
    "import mbuild as mb"
   ]
  },
  {
   "cell_type": "markdown",
   "metadata": {},
   "source": [
    "### The `Compound` class\n",
    "\n",
    "The base class of mBuild is the `Compound` class, which defines the primary building block used for constructing molecules. Molecules are constructed hierarchically; however, each level of the hierarchy inherits from the `Compound` class. This means that `Compounds` may contain other `Compounds`, and that the same methods and attributes are present for molecule components at any level of the hierarchy. There are several ways to interrogate what is contained within a `Compound` (e.g. `type`, `dir`, `list`). mBuild `Compounds` feature [a variety of useful methods and attributes](https://mbuild.mosdef.org/en/stable/topic_guides/data_structures.html#) to facilitate system construction.\n",
    "\n",
    "## Example 1\n",
    "Let's try using the `type` and `dir` functions to explore the `Compound` data type and attributes."
   ]
  },
  {
   "cell_type": "code",
   "execution_count": 2,
   "metadata": {
    "scrolled": true
   },
   "outputs": [
    {
     "name": "stdout",
     "output_type": "stream",
     "text": [
      "<class 'mbuild.compound.Compound'>\n"
     ]
    },
    {
     "data": {
      "text/plain": [
       "['__class__',\n",
       " '__delattr__',\n",
       " '__dict__',\n",
       " '__dir__',\n",
       " '__doc__',\n",
       " '__eq__',\n",
       " '__format__',\n",
       " '__ge__',\n",
       " '__getattribute__',\n",
       " '__getitem__',\n",
       " '__gt__',\n",
       " '__hash__',\n",
       " '__init__',\n",
       " '__init_subclass__',\n",
       " '__le__',\n",
       " '__lt__',\n",
       " '__module__',\n",
       " '__ne__',\n",
       " '__new__',\n",
       " '__reduce__',\n",
       " '__reduce_ex__',\n",
       " '__repr__',\n",
       " '__setattr__',\n",
       " '__sizeof__',\n",
       " '__str__',\n",
       " '__subclasshook__',\n",
       " '__weakref__',\n",
       " '_box',\n",
       " '_charge',\n",
       " '_check_if_contains_rigid_bodies',\n",
       " '_clone',\n",
       " '_clone_bonds',\n",
       " '_contains_only_ports',\n",
       " '_contains_rigid',\n",
       " '_element',\n",
       " '_energy_minimize_openbabel',\n",
       " '_energy_minimize_openmm',\n",
       " '_increment_rigid_ids',\n",
       " '_kick',\n",
       " '_mass',\n",
       " '_n_particles',\n",
       " '_particle_mass',\n",
       " '_particles',\n",
       " '_periodicity',\n",
       " '_pos',\n",
       " '_prune_ghost_ports',\n",
       " '_remove',\n",
       " '_remove_references',\n",
       " '_reorder_rigid_ids',\n",
       " '_rigid_id',\n",
       " '_update_port_locations',\n",
       " '_visualize_nglview',\n",
       " '_visualize_py3dmol',\n",
       " 'add',\n",
       " 'add_bond',\n",
       " 'all_ports',\n",
       " 'ancestors',\n",
       " 'available_ports',\n",
       " 'bond_graph',\n",
       " 'bonds',\n",
       " 'box',\n",
       " 'center',\n",
       " 'charge',\n",
       " 'children',\n",
       " 'contains_rigid',\n",
       " 'direct_bonds',\n",
       " 'element',\n",
       " 'energy_minimize',\n",
       " 'flatten',\n",
       " 'freud_generate_bonds',\n",
       " 'from_gmso',\n",
       " 'from_parmed',\n",
       " 'from_pybel',\n",
       " 'from_trajectory',\n",
       " 'generate_bonds',\n",
       " 'get_boundingbox',\n",
       " 'get_smiles',\n",
       " 'is_independent',\n",
       " 'label_rigid_bodies',\n",
       " 'labels',\n",
       " 'mass',\n",
       " 'max_rigid_id',\n",
       " 'maxs',\n",
       " 'min_periodic_distance',\n",
       " 'mins',\n",
       " 'n_bonds',\n",
       " 'n_direct_bonds',\n",
       " 'n_particles',\n",
       " 'name',\n",
       " 'parent',\n",
       " 'particles',\n",
       " 'particles_by_element',\n",
       " 'particles_by_name',\n",
       " 'particles_in_range',\n",
       " 'periodicity',\n",
       " 'port_particle',\n",
       " 'pos',\n",
       " 'referenced_ports',\n",
       " 'referrers',\n",
       " 'remove',\n",
       " 'remove_bond',\n",
       " 'rigid_id',\n",
       " 'rigid_particles',\n",
       " 'root',\n",
       " 'rotate',\n",
       " 'save',\n",
       " 'spin',\n",
       " 'successors',\n",
       " 'to_gmso',\n",
       " 'to_intermol',\n",
       " 'to_networkx',\n",
       " 'to_parmed',\n",
       " 'to_pybel',\n",
       " 'to_trajectory',\n",
       " 'translate',\n",
       " 'translate_to',\n",
       " 'unlabel_rigid_bodies',\n",
       " 'update_coordinates',\n",
       " 'visualize',\n",
       " 'xyz',\n",
       " 'xyz_with_ports']"
      ]
     },
     "metadata": {},
     "output_type": "display_data"
    }
   ],
   "source": [
    "my_compound = mb.Compound()\n",
    "print(type(my_compound))\n",
    "display(dir(my_compound))"
   ]
  },
  {
   "cell_type": "markdown",
   "metadata": {},
   "source": [
    "### Creating `Compounds`\n",
    "\n",
    "There are several ways that `Compounds` can be created with mBuild. The simplest is to construct them from the particle level. Standard mBuild protocol is to define particles' names according to their elemental symbol (e.g. `'C'`), or to preface their names by an underscore for coarse-grained beads (e.g. `'_CH4'`). This aids in the atomtyping and forcefield application process (using the Foyer package) which we will get back to later.\n",
    "\n",
    "Now, lets create a simple carbon `Compound`. [Several arguments are available](https://mbuild.mosdef.org/en/stable/topic_guides/data_structures.html#compound) to set various `Compound` attributes upon instantiation. Here, we'll use the `name` argument to specify the element of our `Compound` and the `pos` argument to specify the location of the `Compound` in Cartesian space.\n",
    "\n",
    "**Note:** mBuild expects all distance units to be in nanometers."
   ]
  },
  {
   "cell_type": "code",
   "execution_count": 3,
   "metadata": {},
   "outputs": [
    {
     "data": {
      "application/vnd.jupyter.widget-view+json": {
       "model_id": "ebdda79ab6b64d5186fdd56a5c7ce1ea",
       "version_major": 2,
       "version_minor": 0
      },
      "text/plain": []
     },
     "metadata": {},
     "output_type": "display_data"
    },
    {
     "data": {
      "application/vnd.jupyter.widget-view+json": {
       "model_id": "4f1a8616a5f34ad4af53e314f40cdaab",
       "version_major": 2,
       "version_minor": 0
      },
      "text/plain": [
       "NGLWidget()"
      ]
     },
     "metadata": {},
     "output_type": "display_data"
    }
   ],
   "source": [
    "carbon = mb.Compound(name='C', pos=[1.0, 2.0, 3.0])\n",
    "carbon.visualize(backend=\"nglview\")"
   ]
  },
  {
   "cell_type": "markdown",
   "metadata": {},
   "source": [
    "## Example 2\n",
    "\n",
    "Individual atoms are boring. Let's try now to create a simple CH2 moiety. (Don't worry about the undercoordinated carbon; we'll be using this later to piece together an alkane chain.)"
   ]
  },
  {
   "cell_type": "code",
   "execution_count": 5,
   "metadata": {},
   "outputs": [
    {
     "data": {
      "text/plain": [
       "[<C pos=([0. 0. 0.]), 0 bonds, id: 6098385504>,\n",
       " <H pos=([0.1 0.  0. ]), 0 bonds, id: 6098302240>,\n",
       " <H pos=([-0.1  0.   0. ]), 0 bonds, id: 6098383776>]"
      ]
     },
     "execution_count": 5,
     "metadata": {},
     "output_type": "execute_result"
    }
   ],
   "source": [
    "\"\"\"\n",
    "The first step we need to take is to create an empty mBuild `Compound` to add \n",
    "our particles to (we can give this `Compound` a name if we'd like).\n",
    "\"\"\"\n",
    "\n",
    "ch2 = mb.Compound() \n",
    "ch2 = mb.Compound(name='CH2')\n",
    "\n",
    "\"\"\"\n",
    "Now we need to create three particles: one carbon and two hydrogens. \n",
    "We'll manually set the atomic positions such that they represent realistic atomic spacings.\n",
    "\"\"\"\n",
    "\n",
    "carbon = mb.Compound(pos=[0.0, 0.0, 0.0], name='C')\n",
    "hydrogen1 = mb.Compound(pos=[0.1, 0.0, 0.0], name='H')\n",
    "hydrogen2 = mb.Compound(pos=[-0.1, 0.0, 0.0], name='H')\n",
    "\n",
    "\"\"\"\n",
    "As described earlier, the hierarchical design approach used by mBuild allows `Compounds` \n",
    "to contain other `Compounds`. To add our three particles to the hierarchy of our CH2 `Compound` \n",
    "we can use the `add` function. All we need to provide are the variable \n",
    "references to these three particles in a list-like format.\n",
    "\"\"\"\n",
    "\n",
    "ch2.add([carbon, hydrogen1, hydrogen2])\n",
    "\n",
    "\"\"\"\n",
    "We can use the `particles` method to view the particles contained by a `Compound`. This method is \n",
    "written as a generator to conserve memory for large systems, so we'll need to convert to a `list`.\n",
    "\"\"\"\n",
    "\n",
    "list(ch2.particles())"
   ]
  },
  {
   "cell_type": "markdown",
   "metadata": {},
   "source": [
    "As we can see, our carbon particle and two hydrogen particles are now contained within our CH2 `Compound`. Now let's visualize our `Compound` to confirm we built this correctly."
   ]
  },
  {
   "cell_type": "code",
   "execution_count": 6,
   "metadata": {},
   "outputs": [
    {
     "data": {
      "application/vnd.jupyter.widget-view+json": {
       "model_id": "52c4b8b9f0ba43cd928960015632f101",
       "version_major": 2,
       "version_minor": 0
      },
      "text/plain": [
       "NGLWidget()"
      ]
     },
     "metadata": {},
     "output_type": "display_data"
    }
   ],
   "source": [
    "ch2.visualize(backend=\"nglview\")"
   ]
  },
  {
   "cell_type": "markdown",
   "metadata": {},
   "source": [
    "Looking good! However, although we've added our three particles to the CH2 `Compound`, we have yet to define any bonds between them. To accomplish this, we can use the `Compound.add_bond()` method to specify our two C-H bonds."
   ]
  },
  {
   "cell_type": "code",
   "execution_count": 7,
   "metadata": {},
   "outputs": [
    {
     "data": {
      "application/vnd.jupyter.widget-view+json": {
       "model_id": "dde2d84655534951a3469137cab155a2",
       "version_major": 2,
       "version_minor": 0
      },
      "text/plain": [
       "NGLWidget()"
      ]
     },
     "metadata": {},
     "output_type": "display_data"
    }
   ],
   "source": [
    "ch2.add_bond((carbon, hydrogen1))\n",
    "ch2.add_bond((carbon, hydrogen2))\n",
    "ch2.visualize(backend=\"nglview\")"
   ]
  },
  {
   "cell_type": "markdown",
   "metadata": {},
   "source": [
    "Visually we now see that our CH2 `Compound` contains three particles and two C-H bonds."
   ]
  },
  {
   "cell_type": "markdown",
   "metadata": {},
   "source": [
    "## Example 3\n",
    "Create an instance of the CH2 class and visualize the `Compound`.\n",
    "### Reusing components\n",
    "\n",
    "It would be quite tedious to have to go through each of the above steps every time we wanted to create a new CH2 `Compound`. However, this problem is easily solved by wrapping these routines together into a class.\n",
    "\n",
    "Here, we'll create a class for our CH2 moiety using the same approach we just took above so that we can easily reuse this piece when constructing more complex molecules."
   ]
  },
  {
   "cell_type": "code",
   "execution_count": 9,
   "metadata": {},
   "outputs": [],
   "source": [
    "%matplotlib notebook\n",
    "import mbuild as mb\n",
    "\n",
    "class CH2(mb.Compound):\n",
    "    def __init__(self):\n",
    "        super(CH2, self).__init__()\n",
    "        \n",
    "        carbon = mb.Compound(pos=[0.0, 0.0, 0.0], name='C')\n",
    "        hydrogen1 = mb.Compound(pos=[0.1, 0.0, 0.0], name='H')\n",
    "        hydrogen2 = mb.Compound(pos=[-0.1, 0.0, 0.0], name='H')\n",
    "        self.add([carbon, hydrogen1, hydrogen2])\n",
    "        self.add_bond((carbon, hydrogen1))\n",
    "        self.add_bond((carbon, hydrogen2))"
   ]
  },
  {
   "cell_type": "markdown",
   "metadata": {},
   "source": [
    "As we can see, our class definition contains the same commands we just used to the create the CH2 `Compound` above; however, we have replaced `ch2` with `self` so that these commands will be performed on any instance of our `CH2` class. Additionally, since we want our class instance to be an mBuild `Compound`, we specify that our `CH2` class should inherit from `mb.Compound`."
   ]
  },
  {
   "cell_type": "code",
   "execution_count": 10,
   "metadata": {},
   "outputs": [
    {
     "data": {
      "application/vnd.jupyter.widget-view+json": {
       "model_id": "fd2748900eed437abc53774aa00d2f86",
       "version_major": 2,
       "version_minor": 0
      },
      "text/plain": [
       "NGLWidget()"
      ]
     },
     "metadata": {},
     "output_type": "display_data"
    }
   ],
   "source": [
    "ch2 = CH2()\n",
    "ch2.name = 'myCH2'\n",
    "ch2.visualize(backend=\"nglview\")"
   ]
  },
  {
   "cell_type": "markdown",
   "metadata": {},
   "source": [
    "While there are instances where creating `Compounds` particle-by-particle is useful, this process can get a bit tedious. It's much easier to create them by loading in pre-assembled building blocks. These can easily be created using software such as [Avogadro](https://avogadro.cc/). The `load()` function can create mBuild `Compounds` from a variety of common file formats (e.g. PDB, MOL2) that contain particle positions and bonds. Here, we'll create the same CH2 `Compound` by loading from a PDB file.\n",
    "\n",
    "**Note:** mBuild does not infer bonds. They must be explicitly defined in your code or in an input structure file."
   ]
  },
  {
   "cell_type": "code",
   "execution_count": 11,
   "metadata": {},
   "outputs": [
    {
     "data": {
      "application/vnd.jupyter.widget-view+json": {
       "model_id": "c1056869491642a6989d29125712c1e2",
       "version_major": 2,
       "version_minor": 0
      },
      "text/plain": [
       "NGLWidget()"
      ]
     },
     "metadata": {},
     "output_type": "display_data"
    }
   ],
   "source": [
    "ch2 = mb.load('pdb_files/ch2.pdb')\n",
    "ch2.visualize(backend=\"nglview\")"
   ]
  },
  {
   "cell_type": "markdown",
   "metadata": {},
   "source": [
    "We can also handle [SMILES](https://daylight.com/dayhtml/doc/theory/theory.smiles.html) strings, which are available for most molecules located on PubChem and other websites. This can reduce a lot of building by hand."
   ]
  },
  {
   "cell_type": "code",
   "execution_count": 12,
   "metadata": {},
   "outputs": [
    {
     "data": {
      "application/vnd.jupyter.widget-view+json": {
       "model_id": "06f0911312a646329c673a53d002c488",
       "version_major": 2,
       "version_minor": 0
      },
      "text/plain": [
       "NGLWidget()"
      ]
     },
     "metadata": {},
     "output_type": "display_data"
    }
   ],
   "source": [
    "ch2 = mb.load('[CH2]', smiles=True)\n",
    "ch2.visualize(backend=\"nglview\")"
   ]
  },
  {
   "cell_type": "markdown",
   "metadata": {},
   "source": [
    "## Example 4"
   ]
  },
  {
   "cell_type": "markdown",
   "metadata": {},
   "source": [
    "### Connecting components\n",
    "\n",
    "We've already found that particles can be connected (i.e. bonded) by using the `add_bond` routine; however, this does not actually move the atoms in space, and it would become burdensome to need to manually update the position of each atom. This is where [mBuild's `Port` class](http://mosdef-hub.github.io/mbuild/data_structures.html#mbuild.port.Port) comes into play. `Ports` in the most general sense define a location in space; however, in most cases these can be thought of as dangling bonds.\n",
    "\n",
    "Let's test this functionality by using `Ports` instead of `add_bond` to create CH2. First, we'll create an empty `Compound` for CH2 that we will add three particles to at unrealistic locations."
   ]
  },
  {
   "cell_type": "code",
   "execution_count": 19,
   "metadata": {},
   "outputs": [
    {
     "data": {
      "application/vnd.jupyter.widget-view+json": {
       "model_id": "c1ad6ea50e384886b0bcad737bce452c",
       "version_major": 2,
       "version_minor": 0
      },
      "text/plain": [
       "NGLWidget()"
      ]
     },
     "metadata": {},
     "output_type": "display_data"
    }
   ],
   "source": [
    "ch2 = mb.Compound()\n",
    "carbon = mb.Compound(pos=[0.0, 0.0, 0.0], name='C')\n",
    "hydrogen1 = mb.Compound(pos=[0.5, 0.0, 0.0], name='H')\n",
    "hydrogen2 = mb.Compound(pos=[1, 0.0, 0.0], name='H')\n",
    "ch2.add([carbon, hydrogen1, hydrogen2])\n",
    "ch2.visualize(backend=\"nglview\")"
   ]
  },
  {
   "cell_type": "markdown",
   "metadata": {},
   "source": [
    "Now we'll instantiate the `Port` class. We can attach the `Port` to the carbon atom by using the `anchor` attribute. This allows mBuild to know which atoms to create bonds between when two `Ports` are connected. We can also provide an `orientation` vector to give our `Port` a desired direction, and can use the `separation` argument to shift our `Port` from the position of the anchor particle. Since we're going to be connecting to a hydrogen, we will shift our `Port` roughly half of a C-H bond length."
   ]
  },
  {
   "cell_type": "code",
   "execution_count": 20,
   "metadata": {},
   "outputs": [
    {
     "data": {
      "text/plain": [
       "mbuild.port.Port"
      ]
     },
     "execution_count": 20,
     "metadata": {},
     "output_type": "execute_result"
    }
   ],
   "source": [
    "port_C = mb.Port(anchor=carbon, orientation=[1, 0, 0], separation=0.05)\n",
    "type(port_C)"
   ]
  },
  {
   "cell_type": "markdown",
   "metadata": {},
   "source": [
    "We now need to add this `Port` to the containment hierarchy of our CH2 molecule, again using the `add` method. We can also provide a descriptive label for our `Port` that we can use for easy access."
   ]
  },
  {
   "cell_type": "code",
   "execution_count": 21,
   "metadata": {},
   "outputs": [
    {
     "data": {
      "text/plain": [
       "<Port, anchor: 'C', labels: ['right'], id: 6127129936>"
      ]
     },
     "execution_count": 21,
     "metadata": {},
     "output_type": "execute_result"
    }
   ],
   "source": [
    "ch2.add(port_C, label='right')\n",
    "ch2['right']"
   ]
  },
  {
   "cell_type": "markdown",
   "metadata": {},
   "source": [
    "Now we need to add another `Port` to the carbon particle and one `Port` to each hydrogen particle, giving each of these distinct labels. We'll first add another `Port` to carbon and a `Port` on one of the hydrogens."
   ]
  },
  {
   "cell_type": "code",
   "execution_count": 22,
   "metadata": {},
   "outputs": [
    {
     "data": {
      "application/vnd.jupyter.widget-view+json": {
       "model_id": "8e991304040243c4b3f150ef964a1312",
       "version_major": 2,
       "version_minor": 0
      },
      "text/plain": [
       "NGLWidget()"
      ]
     },
     "metadata": {},
     "output_type": "display_data"
    }
   ],
   "source": [
    "port2_C = mb.Port(anchor=carbon, \n",
    "                  orientation=[-1, 0, 0], \n",
    "                  separation=0.05)\n",
    "ch2.add(port2_C, label='left')\n",
    "\n",
    "port1_H = mb.Port(anchor=hydrogen1,\n",
    "                  orientation=[1, 0, 0],\n",
    "                  separation=0.05)\n",
    "ch2.add(port1_H, label='H1')\n",
    "\n",
    "ch2.visualize(show_ports=True, backend=\"nglview\")"
   ]
  },
  {
   "cell_type": "markdown",
   "metadata": {},
   "source": [
    "Create a `Port` on the second hydrogen atom and add to the CH2 `Compound` with the label `'H2'`."
   ]
  },
  {
   "cell_type": "code",
   "execution_count": 23,
   "metadata": {},
   "outputs": [
    {
     "data": {
      "application/vnd.jupyter.widget-view+json": {
       "model_id": "d31e09d90f5e4149adc6bc8ba7573c73",
       "version_major": 2,
       "version_minor": 0
      },
      "text/plain": [
       "NGLWidget()"
      ]
     },
     "metadata": {},
     "output_type": "display_data"
    }
   ],
   "source": [
    "port2_H = mb.Port(anchor=hydrogen2,\n",
    "                  orientation=[1, 0, 0], \n",
    "                  separation=0.05)\n",
    "ch2.add(port2_H, label='H2')\n",
    "\n",
    "ch2.visualize(backend=\"nglview\")"
   ]
  },
  {
   "cell_type": "markdown",
   "metadata": {},
   "source": [
    "The `force_overlap` function can be used to force the overlap of two `Ports` by performing a coordinate transform on one of the two `Compounds` that should be connected. This will also create a bond between the anchor particles of each `Port`. We'll use this function here to connect one hydrogen to the carbon particle."
   ]
  },
  {
   "cell_type": "code",
   "execution_count": 24,
   "metadata": {},
   "outputs": [
    {
     "data": {
      "application/vnd.jupyter.widget-view+json": {
       "model_id": "f40c7a5324564df0b1778bc2ec44a8cb",
       "version_major": 2,
       "version_minor": 0
      },
      "text/plain": [
       "NGLWidget()"
      ]
     },
     "metadata": {},
     "output_type": "display_data"
    }
   ],
   "source": [
    "mb.force_overlap(move_this=hydrogen1,\n",
    "                 from_positions=ch2['H1'],\n",
    "                 to_positions=ch2['right'])\n",
    "ch2.visualize(backend=\"nglview\")"
   ]
  },
  {
   "cell_type": "markdown",
   "metadata": {},
   "source": [
    "Connect the second hydrogen to carbon to complete the CH2 molecule (i.e. connect `Port` `'H2'` to `Port` `'left'`) and visualize."
   ]
  },
  {
   "cell_type": "code",
   "execution_count": 25,
   "metadata": {},
   "outputs": [
    {
     "data": {
      "application/vnd.jupyter.widget-view+json": {
       "model_id": "e7b5733b670a47b5b8c4633483f5ccce",
       "version_major": 2,
       "version_minor": 0
      },
      "text/plain": [
       "NGLWidget()"
      ]
     },
     "metadata": {},
     "output_type": "display_data"
    }
   ],
   "source": [
    "mb.force_overlap(move_this=hydrogen2,\n",
    "                 from_positions=ch2['H2'],\n",
    "                 to_positions=ch2['left'])\n",
    "ch2.visualize(backend=\"nglview\")"
   ]
  },
  {
   "cell_type": "code",
   "execution_count": 26,
   "metadata": {},
   "outputs": [
    {
     "data": {
      "application/vnd.jupyter.widget-view+json": {
       "model_id": "0a4b50a22f854b2297864122d9a786db",
       "version_major": 2,
       "version_minor": 0
      },
      "text/plain": [
       "NGLWidget()"
      ]
     },
     "metadata": {},
     "output_type": "display_data"
    }
   ],
   "source": [
    "# The complete bit of code\n",
    "ch2 = mb.Compound()\n",
    "carbon = mb.Compound(pos=[0.0, 0.0, 0.0], name='C')\n",
    "hydrogen1 = mb.Compound(pos=[0.5, 0.0, 0.0], name='H')\n",
    "hydrogen2 = mb.Compound(pos=[1, 0.0, 0.0], name='H')\n",
    "ch2.add([carbon, hydrogen1, hydrogen2])\n",
    "port_C = mb.Port(anchor=carbon, orientation=[1, 0, 0], separation=0.05)\n",
    "ch2.add(port_C, label='right')\n",
    "port2_C = mb.Port(anchor=carbon, \n",
    "                  orientation=[-1, 0, 0], \n",
    "                  separation=0.05)\n",
    "ch2.add(port2_C, label='left')\n",
    "port1_H = mb.Port(anchor=hydrogen1,\n",
    "                  orientation=[1, 0, 0],\n",
    "                  separation=0.05)\n",
    "ch2.add(port1_H, label='H1')\n",
    "port2_H = mb.Port(anchor=hydrogen2,\n",
    "                  orientation=[1, 0, 0], \n",
    "                  separation=0.05)\n",
    "ch2.add(port2_H, label='H2')\n",
    "mb.force_overlap(move_this=hydrogen1,\n",
    "                 from_positions=ch2['H1'],\n",
    "                 to_positions=ch2['right'])\n",
    "mb.force_overlap(move_this=hydrogen2,\n",
    "                 from_positions=ch2['H2'],\n",
    "                 to_positions=ch2['left'])\n",
    "ch2.visualize(backend=\"nglview\")"
   ]
  },
  {
   "cell_type": "markdown",
   "metadata": {},
   "source": [
    "### Building larger `Compounds`\n",
    "\n",
    "In general, connecting atoms together using `Ports` to create small moieties is unnecessary as these can be loaded from structure files; however, this functionality is important for creating larger and more complex `Compounds`.\n",
    "\n",
    "## Example 5\n",
    "Define a `Port` (labeled `'down'`) on the carbon particle so that we can connect CH2 `Compounds` together."
   ]
  },
  {
   "cell_type": "code",
   "execution_count": 38,
   "metadata": {},
   "outputs": [],
   "source": [
    "%matplotlib notebook\n",
    "import mbuild as mb\n",
    "\n",
    "class CH2(mb.Compound):\n",
    "    def __init__(self):\n",
    "        super(CH2, self).__init__()\n",
    "        \n",
    "        mb.load('pdb_files/ch2.pdb', compound=self)\n",
    "        carbon = list(self.particles_by_name('C'))[0]\n",
    "        up_port = mb.Port(anchor=carbon, orientation=[0, 1, 0], separation=0.075)\n",
    "        down_port = mb.Port(anchor=carbon, orientation=[0, -1, 0], separation=0.075)\n",
    "        self.add(up_port, label='up')\n",
    "        self.add(down_port, label='down')"
   ]
  },
  {
   "cell_type": "markdown",
   "metadata": {},
   "source": [
    "Now we'll explore how `Ports` can be used to connect `Compounds` by connecting two CH2 groups to create a C2H4 group. We'll first use mBuild's `clone` function to create two deep copies of our CH2 `Compound`.\n",
    "\n",
    "We can use the `translate` function to move one copy so that they are not on top of one another. We'll also add these to a temporary `Compound` so that we can visualize both simultaneously."
   ]
  },
  {
   "cell_type": "code",
   "execution_count": 39,
   "metadata": {},
   "outputs": [
    {
     "data": {
      "application/3dmoljs_load.v0": "<div id=\"3dmolviewer_16582685889262562\"  style=\"position: relative; width: 640px; height: 480px\">\n        <p id=\"3dmolwarning_16582685889262562\" style=\"background-color:#ffcccc;color:black\">You appear to be running in JupyterLab (or JavaScript failed to load for some other reason).  You need to install the 3dmol extension: <br>\n        <tt>jupyter labextension install jupyterlab_3dmol</tt></p>\n        </div>\n<script>\n\nvar loadScriptAsync = function(uri){\n  return new Promise((resolve, reject) => {\n    var tag = document.createElement('script');\n    tag.src = uri;\n    tag.async = true;\n    tag.onload = () => {\n      resolve();\n    };\n  var firstScriptTag = document.getElementsByTagName('script')[0];\n  firstScriptTag.parentNode.insertBefore(tag, firstScriptTag);\n});\n};\n\nif(typeof $3Dmolpromise === 'undefined') {\n$3Dmolpromise = null;\n  $3Dmolpromise = loadScriptAsync('https://3dmol.org/build/3Dmol.js');\n}\n\nvar viewer_16582685889262562 = null;\nvar warn = document.getElementById(\"3dmolwarning_16582685889262562\");\nif(warn) {\n    warn.parentNode.removeChild(warn);\n}\n$3Dmolpromise.then(function() {\nviewer_16582685889262562 = $3Dmol.createViewer($(\"#3dmolviewer_16582685889262562\"),{backgroundColor:\"white\"});\nviewer_16582685889262562.zoomTo();\n\tviewer_16582685889262562.addModel(\"@<TRIPOS>MOLECULE\\nRES\\n6 4 1 0 1\\nSMALL\\nNO_CHARGES\\n@<TRIPOS>CRYSIN\\n   17.2000    15.0000    15.0000    90.0000    90.0000    90.0000  1  1\\n@<TRIPOS>ATOM\\n       1 C            0.0000     0.0000     0.0000 C             1 RES     \\n       2 H           -1.1000     0.0000     0.0000 H             1 RES     \\n       3 H            1.1000     0.0000     0.0000 H             1 RES     \\n       4 C           10.0000    10.0000    10.0000 C             1 RES     \\n       5 H            8.9000    10.0000    10.0000 H             1 RES     \\n       6 H           11.1000    10.0000    10.0000 H             1 RES     \\n@<TRIPOS>BOND\\n       1        2        1 1\\n       2        3        1 1\\n       3        5        4 1\\n       4        6        4 1\\n@<TRIPOS>SUBSTRUCTURE\\n       1 RES             1 RESIDUE    0 **** ROOT      0\\n\",\"mol2\");\n\tviewer_16582685889262562.setStyle({\"stick\": {\"radius\": 0.2, \"color\": \"grey\"}, \"sphere\": {\"scale\": 0.3, \"colorscheme\": {}}});\n\tviewer_16582685889262562.zoomTo();\nviewer_16582685889262562.render();\n});\n</script>",
      "text/html": [
       "<div id=\"3dmolviewer_16582685889262562\"  style=\"position: relative; width: 640px; height: 480px\">\n",
       "        <p id=\"3dmolwarning_16582685889262562\" style=\"background-color:#ffcccc;color:black\">You appear to be running in JupyterLab (or JavaScript failed to load for some other reason).  You need to install the 3dmol extension: <br>\n",
       "        <tt>jupyter labextension install jupyterlab_3dmol</tt></p>\n",
       "        </div>\n",
       "<script>\n",
       "\n",
       "var loadScriptAsync = function(uri){\n",
       "  return new Promise((resolve, reject) => {\n",
       "    var tag = document.createElement('script');\n",
       "    tag.src = uri;\n",
       "    tag.async = true;\n",
       "    tag.onload = () => {\n",
       "      resolve();\n",
       "    };\n",
       "  var firstScriptTag = document.getElementsByTagName('script')[0];\n",
       "  firstScriptTag.parentNode.insertBefore(tag, firstScriptTag);\n",
       "});\n",
       "};\n",
       "\n",
       "if(typeof $3Dmolpromise === 'undefined') {\n",
       "$3Dmolpromise = null;\n",
       "  $3Dmolpromise = loadScriptAsync('https://3dmol.org/build/3Dmol.js');\n",
       "}\n",
       "\n",
       "var viewer_16582685889262562 = null;\n",
       "var warn = document.getElementById(\"3dmolwarning_16582685889262562\");\n",
       "if(warn) {\n",
       "    warn.parentNode.removeChild(warn);\n",
       "}\n",
       "$3Dmolpromise.then(function() {\n",
       "viewer_16582685889262562 = $3Dmol.createViewer($(\"#3dmolviewer_16582685889262562\"),{backgroundColor:\"white\"});\n",
       "viewer_16582685889262562.zoomTo();\n",
       "\tviewer_16582685889262562.addModel(\"@<TRIPOS>MOLECULE\\nRES\\n6 4 1 0 1\\nSMALL\\nNO_CHARGES\\n@<TRIPOS>CRYSIN\\n   17.2000    15.0000    15.0000    90.0000    90.0000    90.0000  1  1\\n@<TRIPOS>ATOM\\n       1 C            0.0000     0.0000     0.0000 C             1 RES     \\n       2 H           -1.1000     0.0000     0.0000 H             1 RES     \\n       3 H            1.1000     0.0000     0.0000 H             1 RES     \\n       4 C           10.0000    10.0000    10.0000 C             1 RES     \\n       5 H            8.9000    10.0000    10.0000 H             1 RES     \\n       6 H           11.1000    10.0000    10.0000 H             1 RES     \\n@<TRIPOS>BOND\\n       1        2        1 1\\n       2        3        1 1\\n       3        5        4 1\\n       4        6        4 1\\n@<TRIPOS>SUBSTRUCTURE\\n       1 RES             1 RESIDUE    0 **** ROOT      0\\n\",\"mol2\");\n",
       "\tviewer_16582685889262562.setStyle({\"stick\": {\"radius\": 0.2, \"color\": \"grey\"}, \"sphere\": {\"scale\": 0.3, \"colorscheme\": {}}});\n",
       "\tviewer_16582685889262562.zoomTo();\n",
       "viewer_16582685889262562.render();\n",
       "});\n",
       "</script>"
      ]
     },
     "metadata": {},
     "output_type": "display_data"
    },
    {
     "data": {
      "text/plain": [
       "<py3Dmol.view at 0x16d5432b0>"
      ]
     },
     "execution_count": 39,
     "metadata": {},
     "output_type": "execute_result"
    }
   ],
   "source": [
    "ch2 = CH2()\n",
    "ch2_copy1 = mb.clone(ch2)\n",
    "ch2_copy2 = mb.clone(ch2)\n",
    "ch2_copy2.translate([1, 1, 1])\n",
    "temp_compound = mb.Compound()\n",
    "temp_compound.add((ch2_copy1, ch2_copy2))\n",
    "temp_compound.visualize()"
   ]
  },
  {
   "cell_type": "markdown",
   "metadata": {},
   "source": [
    "Create a C2H4 `Compound` by using `force_overlap` to connect the `'up'` `Port` of `ch2_copy1` with the `'down'` `Port` of `ch2_copy2`."
   ]
  },
  {
   "cell_type": "code",
   "execution_count": 40,
   "metadata": {},
   "outputs": [],
   "source": [
    "ch2_copy1 = mb.clone(ch2)\n",
    "ch2_copy2 = mb.clone(ch2)\n",
    "ch2_copy2.translate([1, 1, 1])\n",
    "\n",
    "mb.force_overlap(move_this=ch2_copy1,\n",
    "                 from_positions=ch2_copy1['up'],\n",
    "                 to_positions=ch2_copy2['down'])"
   ]
  },
  {
   "cell_type": "markdown",
   "metadata": {},
   "source": [
    "We'll now create an empty `Compound` for our C2H4 molecule and add the two CH2 copies that are now connected."
   ]
  },
  {
   "cell_type": "code",
   "execution_count": 41,
   "metadata": {},
   "outputs": [
    {
     "data": {
      "application/3dmoljs_load.v0": "<div id=\"3dmolviewer_1658268590365272\"  style=\"position: relative; width: 640px; height: 480px\">\n        <p id=\"3dmolwarning_1658268590365272\" style=\"background-color:#ffcccc;color:black\">You appear to be running in JupyterLab (or JavaScript failed to load for some other reason).  You need to install the 3dmol extension: <br>\n        <tt>jupyter labextension install jupyterlab_3dmol</tt></p>\n        </div>\n<script>\n\nvar loadScriptAsync = function(uri){\n  return new Promise((resolve, reject) => {\n    var tag = document.createElement('script');\n    tag.src = uri;\n    tag.async = true;\n    tag.onload = () => {\n      resolve();\n    };\n  var firstScriptTag = document.getElementsByTagName('script')[0];\n  firstScriptTag.parentNode.insertBefore(tag, firstScriptTag);\n});\n};\n\nif(typeof $3Dmolpromise === 'undefined') {\n$3Dmolpromise = null;\n  $3Dmolpromise = loadScriptAsync('https://3dmol.org/build/3Dmol.js');\n}\n\nvar viewer_1658268590365272 = null;\nvar warn = document.getElementById(\"3dmolwarning_1658268590365272\");\nif(warn) {\n    warn.parentNode.removeChild(warn);\n}\n$3Dmolpromise.then(function() {\nviewer_1658268590365272 = $3Dmol.createViewer($(\"#3dmolviewer_1658268590365272\"),{backgroundColor:\"white\"});\nviewer_1658268590365272.zoomTo();\n\tviewer_1658268590365272.addModel(\"@<TRIPOS>MOLECULE\\nRES\\n6 5 1 0 1\\nSMALL\\nNO_CHARGES\\n@<TRIPOS>CRYSIN\\n    7.2000     6.5000    15.0000    90.0000    90.0000    90.0000  1  1\\n@<TRIPOS>ATOM\\n       1 C           10.0000     8.5000    10.0000 C             1 RES     \\n       2 H            8.9000     8.5000    10.0000 H             1 RES     \\n       3 H           11.1000     8.5000    10.0000 H             1 RES     \\n       4 C           10.0000    10.0000    10.0000 C             1 RES     \\n       5 H            8.9000    10.0000    10.0000 H             1 RES     \\n       6 H           11.1000    10.0000    10.0000 H             1 RES     \\n@<TRIPOS>BOND\\n       1        2        1 1\\n       2        3        1 1\\n       3        4        1 1\\n       4        5        4 1\\n       5        6        4 1\\n@<TRIPOS>SUBSTRUCTURE\\n       1 RES             1 RESIDUE    0 **** ROOT      0\\n\",\"mol2\");\n\tviewer_1658268590365272.setStyle({\"stick\": {\"radius\": 0.2, \"color\": \"grey\"}, \"sphere\": {\"scale\": 0.3, \"colorscheme\": {}}});\n\tviewer_1658268590365272.zoomTo();\nviewer_1658268590365272.render();\n});\n</script>",
      "text/html": [
       "<div id=\"3dmolviewer_1658268590365272\"  style=\"position: relative; width: 640px; height: 480px\">\n",
       "        <p id=\"3dmolwarning_1658268590365272\" style=\"background-color:#ffcccc;color:black\">You appear to be running in JupyterLab (or JavaScript failed to load for some other reason).  You need to install the 3dmol extension: <br>\n",
       "        <tt>jupyter labextension install jupyterlab_3dmol</tt></p>\n",
       "        </div>\n",
       "<script>\n",
       "\n",
       "var loadScriptAsync = function(uri){\n",
       "  return new Promise((resolve, reject) => {\n",
       "    var tag = document.createElement('script');\n",
       "    tag.src = uri;\n",
       "    tag.async = true;\n",
       "    tag.onload = () => {\n",
       "      resolve();\n",
       "    };\n",
       "  var firstScriptTag = document.getElementsByTagName('script')[0];\n",
       "  firstScriptTag.parentNode.insertBefore(tag, firstScriptTag);\n",
       "});\n",
       "};\n",
       "\n",
       "if(typeof $3Dmolpromise === 'undefined') {\n",
       "$3Dmolpromise = null;\n",
       "  $3Dmolpromise = loadScriptAsync('https://3dmol.org/build/3Dmol.js');\n",
       "}\n",
       "\n",
       "var viewer_1658268590365272 = null;\n",
       "var warn = document.getElementById(\"3dmolwarning_1658268590365272\");\n",
       "if(warn) {\n",
       "    warn.parentNode.removeChild(warn);\n",
       "}\n",
       "$3Dmolpromise.then(function() {\n",
       "viewer_1658268590365272 = $3Dmol.createViewer($(\"#3dmolviewer_1658268590365272\"),{backgroundColor:\"white\"});\n",
       "viewer_1658268590365272.zoomTo();\n",
       "\tviewer_1658268590365272.addModel(\"@<TRIPOS>MOLECULE\\nRES\\n6 5 1 0 1\\nSMALL\\nNO_CHARGES\\n@<TRIPOS>CRYSIN\\n    7.2000     6.5000    15.0000    90.0000    90.0000    90.0000  1  1\\n@<TRIPOS>ATOM\\n       1 C           10.0000     8.5000    10.0000 C             1 RES     \\n       2 H            8.9000     8.5000    10.0000 H             1 RES     \\n       3 H           11.1000     8.5000    10.0000 H             1 RES     \\n       4 C           10.0000    10.0000    10.0000 C             1 RES     \\n       5 H            8.9000    10.0000    10.0000 H             1 RES     \\n       6 H           11.1000    10.0000    10.0000 H             1 RES     \\n@<TRIPOS>BOND\\n       1        2        1 1\\n       2        3        1 1\\n       3        4        1 1\\n       4        5        4 1\\n       5        6        4 1\\n@<TRIPOS>SUBSTRUCTURE\\n       1 RES             1 RESIDUE    0 **** ROOT      0\\n\",\"mol2\");\n",
       "\tviewer_1658268590365272.setStyle({\"stick\": {\"radius\": 0.2, \"color\": \"grey\"}, \"sphere\": {\"scale\": 0.3, \"colorscheme\": {}}});\n",
       "\tviewer_1658268590365272.zoomTo();\n",
       "viewer_1658268590365272.render();\n",
       "});\n",
       "</script>"
      ]
     },
     "metadata": {},
     "output_type": "display_data"
    },
    {
     "data": {
      "text/plain": [
       "<py3Dmol.view at 0x16d47fc40>"
      ]
     },
     "execution_count": 41,
     "metadata": {},
     "output_type": "execute_result"
    }
   ],
   "source": [
    "c2h4 = mb.Compound()\n",
    "c2h4.add((ch2_copy1, ch2_copy2))\n",
    "c2h4.visualize()"
   ]
  },
  {
   "cell_type": "markdown",
   "metadata": {},
   "source": [
    "### Building a linear alkane\n",
    "\n",
    "Now that we've explored the basics of creating mBuild `Compounds` and connecting them together, we'll use this approach to create a slightly more complex molecule, a linear butane.\n",
    "\n",
    "We could approach our butane construction by connecting two CH2 moieties and two CH3 moieties. Alternatively, we could connect four CH2 moieties and cap the ends of the chain with hydrogen atoms. We'll go ahead and take the latter approach. As such, we'll need to also define a class for a hydrogen atom featuring a single port, since the CH2 class has been defined in an earlier example."
   ]
  },
  {
   "cell_type": "code",
   "execution_count": 42,
   "metadata": {
    "scrolled": true
   },
   "outputs": [],
   "source": [
    "class Hydrogen(mb.Compound):\n",
    "    def __init__(self):\n",
    "        super(Hydrogen, self).__init__()\n",
    "        \n",
    "        self.add(mb.Compound(name='H'))\n",
    "        up_port = mb.Port(anchor=self[0], orientation=[0, 0, 1], separation=0.05)\n",
    "        self.add(up_port, 'up')"
   ]
  },
  {
   "cell_type": "markdown",
   "metadata": {},
   "source": [
    "We now have all of the pieces necessary to create a butane molecule. To begin, we'll instantiate an empty mBuild `Compound` to add our pieces to."
   ]
  },
  {
   "cell_type": "code",
   "execution_count": 43,
   "metadata": {},
   "outputs": [],
   "source": [
    "butane = mb.Compound()"
   ]
  },
  {
   "cell_type": "markdown",
   "metadata": {},
   "source": [
    "Now, we'll create one of our CH3 ends by connecting a CH2 group and a hydrogen atom. We'll then add these two `Compounds` to our butane, giving them each a label. Note that by providing `ch2[$]` as the label for our CH2 group, mBuild will create a list that any subsequent parts added to the `Compound` with the same label prefix will be appended to."
   ]
  },
  {
   "cell_type": "code",
   "execution_count": 44,
   "metadata": {},
   "outputs": [
    {
     "data": {
      "application/vnd.jupyter.widget-view+json": {
       "model_id": "fc2a50d5e77d42dfaf275281c8a403a7",
       "version_major": 2,
       "version_minor": 0
      },
      "text/plain": [
       "NGLWidget()"
      ]
     },
     "metadata": {},
     "output_type": "display_data"
    }
   ],
   "source": [
    "hydrogen = Hydrogen()\n",
    "last_unit = CH2()\n",
    "mb.force_overlap(move_this=hydrogen,\n",
    "                 from_positions=hydrogen['up'],\n",
    "                 to_positions=last_unit['up'])\n",
    "butane.add(last_unit, label='ch2[$]')\n",
    "butane.add(hydrogen, label='up-cap')\n",
    "butane.visualize(backend=\"nglview\")"
   ]
  },
  {
   "cell_type": "markdown",
   "metadata": {},
   "source": [
    "To continue to create our butane molecule, we'll next attach three CH2 groups to the CH3 cap we've just created. This can be set up in a loop, where we'll use `force_overlap` to iteratively attach each new CH2 instantiation to the last unit on the chain."
   ]
  },
  {
   "cell_type": "code",
   "execution_count": 45,
   "metadata": {},
   "outputs": [
    {
     "data": {
      "application/vnd.jupyter.widget-view+json": {
       "model_id": "c9c1417e2b0d4f79afc7323db0988946",
       "version_major": 2,
       "version_minor": 0
      },
      "text/plain": [
       "NGLWidget()"
      ]
     },
     "metadata": {},
     "output_type": "display_data"
    }
   ],
   "source": [
    "for _ in range(3):\n",
    "    current_unit = CH2()\n",
    "    mb.force_overlap(move_this=current_unit,\n",
    "                     from_positions=current_unit['up'],\n",
    "                     to_positions=last_unit['down'])\n",
    "    butane.add(current_unit, label='ch2[$]')\n",
    "    last_unit=current_unit\n",
    "\n",
    "butane.visualize(backend=\"nglview\")"
   ]
  },
  {
   "cell_type": "markdown",
   "metadata": {},
   "source": [
    "Finally, we need to cap the end of our molecule with a hydrogen atom to complete the creation of butane."
   ]
  },
  {
   "cell_type": "code",
   "execution_count": 46,
   "metadata": {},
   "outputs": [
    {
     "data": {
      "application/vnd.jupyter.widget-view+json": {
       "model_id": "f4261201a42d459f90a32164ca90f0e5",
       "version_major": 2,
       "version_minor": 0
      },
      "text/plain": [
       "NGLWidget()"
      ]
     },
     "metadata": {},
     "output_type": "display_data"
    }
   ],
   "source": [
    "hydrogen2 = Hydrogen()\n",
    "mb.force_overlap(move_this=hydrogen2,\n",
    "                 from_positions=hydrogen2['up'],\n",
    "                 to_positions=last_unit['down'])\n",
    "butane.add(hydrogen2, label='down-cap')\n",
    "butane.visualize(backend=\"nglview\")"
   ]
  },
  {
   "cell_type": "markdown",
   "metadata": {},
   "source": [
    "As shown previously, we can also wrap all of these commands into a class."
   ]
  },
  {
   "cell_type": "code",
   "execution_count": 47,
   "metadata": {},
   "outputs": [],
   "source": [
    "class Butane(mb.Compound):\n",
    "    def __init__(self):\n",
    "        super(Butane, self).__init__()\n",
    "        \n",
    "        hydrogen = Hydrogen()\n",
    "        last_unit = CH2()\n",
    "        mb.force_overlap(move_this=hydrogen,\n",
    "                         from_positions=hydrogen['up'],\n",
    "                         to_positions=last_unit['up'])\n",
    "        self.add(last_unit, label='ch2[$]')\n",
    "        self.add(hydrogen, label='up-cap')\n",
    "        for _ in range(3):\n",
    "            current_unit = CH2()\n",
    "            mb.force_overlap(move_this=current_unit,\n",
    "                             from_positions=current_unit['up'],\n",
    "                             to_positions=last_unit['down'])\n",
    "            self.add(current_unit, label='ch2[$]')\n",
    "            last_unit=current_unit\n",
    "        hydrogen = Hydrogen()\n",
    "        mb.force_overlap(move_this=hydrogen,\n",
    "                         from_positions=hydrogen['up'],\n",
    "                         to_positions=last_unit['down'])\n",
    "        self.add(hydrogen, label='down-cap')"
   ]
  },
  {
   "cell_type": "code",
   "execution_count": 48,
   "metadata": {},
   "outputs": [
    {
     "data": {
      "application/vnd.jupyter.widget-view+json": {
       "model_id": "e830acac422d48ce917430c48f5832a4",
       "version_major": 2,
       "version_minor": 0
      },
      "text/plain": [
       "NGLWidget()"
      ]
     },
     "metadata": {},
     "output_type": "display_data"
    }
   ],
   "source": [
    "butane = Butane()\n",
    "butane.visualize(backend=\"nglview\")"
   ]
  },
  {
   "cell_type": "markdown",
   "metadata": {},
   "source": [
    "### Creating flexible classes\n",
    "\n",
    "If we had to create a new class for each molecule we wanted to examine this would still be quite cumbersome if we wanted to screen over a large structural parameter space. However, since each `Compound` is defined as a Python class, one simply needs to define one or more top-level variables as arguments so that a single class definition could be used to create a whole family of molecules. We'll demonstrate that here by modifying the Butane class we've just defined to allow the creation of any linear alkane by adding a `chain_length` argument."
   ]
  },
  {
   "cell_type": "code",
   "execution_count": 49,
   "metadata": {},
   "outputs": [],
   "source": [
    "class Alkane(mb.Compound):\n",
    "    def __init__(self, chain_length):\n",
    "        super(Alkane, self).__init__()\n",
    "        if chain_length < 2 or not isinstance(chain_length, int):\n",
    "            raise UserError(\"\"\"The chainlength input provided is not valid. Please provide\n",
    "                            an integer greater than 2.\"\"\")\n",
    "        \n",
    "        hydrogen = Hydrogen()\n",
    "        last_unit = CH2()\n",
    "        mb.force_overlap(move_this=hydrogen,\n",
    "                         from_positions=hydrogen['up'],\n",
    "                         to_positions=last_unit['up'])\n",
    "        self.add(last_unit, label='ch2[$]')\n",
    "        self.add(hydrogen, label='up-cap')\n",
    "        for _ in range(chain_length - 1):\n",
    "            current_unit = CH2()\n",
    "            mb.force_overlap(move_this=current_unit,\n",
    "                             from_positions=current_unit['up'],\n",
    "                             to_positions=last_unit['down'])\n",
    "            self.add(current_unit, label='ch2[$]')\n",
    "            last_unit=current_unit\n",
    "        hydrogen = Hydrogen()\n",
    "        mb.force_overlap(move_this=hydrogen,\n",
    "                         from_positions=hydrogen['up'],\n",
    "                         to_positions=last_unit['down'])\n",
    "        self.add(hydrogen, label='down-cap')"
   ]
  },
  {
   "cell_type": "markdown",
   "metadata": {},
   "source": [
    "We can now create any linear alkane by simply providing a different value for `chain_length` upon instantiation."
   ]
  },
  {
   "cell_type": "code",
   "execution_count": 50,
   "metadata": {},
   "outputs": [
    {
     "data": {
      "application/vnd.jupyter.widget-view+json": {
       "model_id": "8544d436ef414694aa988f8963cb1857",
       "version_major": 2,
       "version_minor": 0
      },
      "text/plain": [
       "NGLWidget()"
      ]
     },
     "metadata": {},
     "output_type": "display_data"
    }
   ],
   "source": [
    "ethane = Alkane(chain_length=2)\n",
    "ethane.visualize(backend=\"nglview\")"
   ]
  },
  {
   "cell_type": "code",
   "execution_count": 51,
   "metadata": {},
   "outputs": [
    {
     "data": {
      "application/vnd.jupyter.widget-view+json": {
       "model_id": "7172fa30522d43bfa4fa39f5c3d9f560",
       "version_major": 2,
       "version_minor": 0
      },
      "text/plain": [
       "NGLWidget()"
      ]
     },
     "metadata": {},
     "output_type": "display_data"
    }
   ],
   "source": [
    "hexane = Alkane(chain_length=6)\n",
    "hexane.visualize(backend=\"nglview\")"
   ]
  },
  {
   "cell_type": "markdown",
   "metadata": {},
   "source": [
    "And those are the basics of mBuild! By defining flexible `Compound` classes with several top-level variables, a pool of `Compounds` spanning a large structural parameter space can be created by simply nesting several `for` loops."
   ]
  },
  {
   "cell_type": "code",
   "execution_count": 52,
   "metadata": {},
   "outputs": [
    {
     "data": {
      "application/vnd.jupyter.widget-view+json": {
       "model_id": "b5ca6c0603da445e9652d9167a73ab66",
       "version_major": 2,
       "version_minor": 0
      },
      "text/plain": [
       "NGLWidget()"
      ]
     },
     "metadata": {},
     "output_type": "display_data"
    }
   ],
   "source": [
    "alkanes = mb.Compound()\n",
    "for chain_length in range(2, 11, 2):\n",
    "    alkane = Alkane(chain_length=chain_length)\n",
    "    alkane.translate([len(alkanes.children) / 2, 0, 0])\n",
    "    alkanes.add(alkane)\n",
    "alkanes.visualize(backend=\"nglview\")"
   ]
  },
  {
   "cell_type": "markdown",
   "metadata": {},
   "source": [
    "### Creating polymers\n",
    "\n",
    "So far, we have created a class for constructing a linear alkane chain. One could imagine that the same approach we took to create this class (i.e. successively adding CH2 units) could be further generalized to support the creation of any linear polymer. In fact, mBuild contains a class that does just this, `mbuild.Polymer`.\n",
    "\n",
    "Here, we'll explore how `Polymer` works by creating a PEG (polyethylene glycol) molecule. We first need to define classes for our CH2 and oxygen monomer units."
   ]
  },
  {
   "cell_type": "code",
   "execution_count": 53,
   "metadata": {},
   "outputs": [],
   "source": [
    "class CH2(mb.Compound):\n",
    "    def __init__(self):\n",
    "        super(CH2, self).__init__()\n",
    "        \n",
    "        mb.load('pdb_files/ch2.pdb', compound=self)\n",
    "        carbon = list(self.particles_by_name('C'))[0]\n",
    "        up_port = mb.Port(anchor=carbon, orientation=[0, 0, 1], separation=0.075)\n",
    "        down_port = mb.Port(anchor=carbon, orientation=[0, 0, -1], separation=0.075)\n",
    "        self.add(up_port, label='up')\n",
    "        self.add(down_port, label='down')\n",
    "\n",
    "class O(mb.Compound):\n",
    "    def __init__(self):\n",
    "        super(O, self).__init__()\n",
    "        \n",
    "        self.add(mb.Compound(name='O'))\n",
    "        up_port = mb.Port(anchor=self[0], orientation=[0, 0, 1], separation=0.075)\n",
    "        self.add(up_port, 'up')\n",
    "        down_port = mb.Port(anchor=self[0], orientation=[0, 0, -1], separation=0.075)\n",
    "        self.add(down_port, 'down')\n",
    "        \n",
    "class H(mb.Compound):\n",
    "    def __init__(self):\n",
    "        super(H, self).__init__()\n",
    "        self.add(mb.Compound(name=\"H\"))\n",
    "        up_port = mb.Port(anchor=self[0], orientation=[0, 0, 1], separation=0.07)\n",
    "        self.add(up_port, 'up')\n"
   ]
  },
  {
   "cell_type": "markdown",
   "metadata": {},
   "source": [
    "### Example 6\n",
    "\n",
    "We'll now feed instances of these two monomers to the `monomers` argument of `Polymer`. We also need to provide a few additional arguments. One of these is the `sequence`, which is provided as a string of characters where each unique character represents one repetition of a monomer. Here, `AAB` means that we want two `CH2`'s for each `O`. We can use the `n` argument to specify the number of times the sequence should be replicated. The `port_labels` argument tells mBuild the names of the two `Ports` to connect when stitching together the polymer."
   ]
  },
  {
   "cell_type": "code",
   "execution_count": 54,
   "metadata": {},
   "outputs": [
    {
     "data": {
      "application/vnd.jupyter.widget-view+json": {
       "model_id": "368ff625333e4c0b8932f21ec00e2bb7",
       "version_major": 2,
       "version_minor": 0
      },
      "text/plain": [
       "NGLWidget()"
      ]
     },
     "metadata": {},
     "output_type": "display_data"
    }
   ],
   "source": [
    "peg4 = mb.lib.recipes.Polymer(monomers=(CH2(), O()), end_groups=(H(), H()))\n",
    "peg4.build(sequence='AAB', n=4)\n",
    "peg4.visualize(backend=\"nglview\")"
   ]
  },
  {
   "cell_type": "markdown",
   "metadata": {},
   "source": [
    "### Energy minimization\n",
    "\n",
    "By this point you have likely noticed that the geometries of some of the molecules we've created may not look entirely realistic (e.g. all backbone atoms featuring 180 degree angles in our PEG molecule). You can solve this issue by placing `Particles` and `Ports` in more realistic locations, either manually or by using energy minimized inputs. \n",
    "\n",
    "Alternatively, you can construct a `Compound` and then energy minimize, either through a simulation engine or using the `energy_minimize` function in mBuild (which uses the [Open Babel](http://openbabel.org/dev-api/) toolkit) to yield more realistic geometries for your prototypes.\n",
    "\n",
    "**Note:** In many cases it is easier to create systems with unrealistic configurations."
   ]
  },
  {
   "cell_type": "code",
   "execution_count": 55,
   "metadata": {},
   "outputs": [
    {
     "name": "stderr",
     "output_type": "stream",
     "text": [
      "/Users/calcraven/miniconda3/envs/fomms-workshop/lib/python3.9/site-packages/mbuild/compound.py:2238: UserWarning: Performing energy minimization using the Open Babel package. Please refer to the documentation to find the appropriate citations for Open Babel and the UFF force field\n",
      "  warn(\n"
     ]
    },
    {
     "data": {
      "application/vnd.jupyter.widget-view+json": {
       "model_id": "5183542d32d246dc94dfc7d5fb46c603",
       "version_major": 2,
       "version_minor": 0
      },
      "text/plain": [
       "NGLWidget()"
      ]
     },
     "metadata": {},
     "output_type": "display_data"
    }
   ],
   "source": [
    "hexane = Alkane(6)\n",
    "hexane.visualize(backend=\"nglview\")\n",
    "hexane.energy_minimize()\n",
    "hexane.visualize(backend=\"nglview\")"
   ]
  },
  {
   "cell_type": "markdown",
   "metadata": {},
   "source": [
    "We can use Python's implemented `help` function to view the docstring of any function or object. Here we'll use this to view the docstring for the `energy_minimization` method."
   ]
  },
  {
   "cell_type": "code",
   "execution_count": 56,
   "metadata": {},
   "outputs": [
    {
     "name": "stdout",
     "output_type": "stream",
     "text": [
      "Help on function energy_minimize in module mbuild.compound:\n",
      "\n",
      "energy_minimize(self, forcefield='UFF', steps=1000, **kwargs)\n",
      "    Perform an energy minimization on a Compound.\n",
      "    \n",
      "    Default behavior utilizes `Open Babel <http://openbabel.org/docs/dev/>`_\n",
      "    to perform an energy minimization/geometry optimization on a Compound by\n",
      "    applying a generic force field\n",
      "    \n",
      "    Can also utilize `OpenMM <http://openmm.org/>`_ to energy minimize after\n",
      "    atomtyping a Compound using\n",
      "    `Foyer <https://github.com/mosdef-hub/foyer>`_ to apply a forcefield XML\n",
      "    file that contains valid SMARTS strings.\n",
      "    \n",
      "    This function is primarily intended to be used on smaller components,\n",
      "    with sizes on the order of 10's to 100's of particles, as the energy\n",
      "    minimization scales poorly with the number of particles.\n",
      "    \n",
      "    Parameters\n",
      "    ----------\n",
      "    steps : int, optional, default=1000\n",
      "        The number of optimization iterations\n",
      "    forcefield : str, optional, default='UFF'\n",
      "        The generic force field to apply to the Compound for minimization.\n",
      "        Valid options are 'MMFF94', 'MMFF94s', ''UFF', 'GAFF', 'Ghemical'.\n",
      "        Please refer to the `Open Babel documentation\n",
      "        <http://open-babel.readthedocs.io/en/latest/Forcefields/Overview.html>`_\n",
      "        when considering your choice of force field.\n",
      "        Utilizing OpenMM for energy minimization requires a forcefield\n",
      "        XML file with valid SMARTS strings. Please refer to `OpenMM docs\n",
      "        <http://docs.openmm.org/7.0.0/userguide/application.html#creating-force-fields>`_\n",
      "        for more information.\n",
      "    \n",
      "    \n",
      "    Other Parameters\n",
      "    ----------------\n",
      "    algorithm : str, optional, default='cg'\n",
      "        The energy minimization algorithm.  Valid options are 'steep', 'cg',\n",
      "        and 'md', corresponding to steepest descent, conjugate gradient, and\n",
      "        equilibrium molecular dynamics respectively.\n",
      "        For _energy_minimize_openbabel\n",
      "    scale_bonds : float, optional, default=1\n",
      "        Scales the bond force constant (1 is completely on).\n",
      "        For _energy_minimize_openmm\n",
      "    scale_angles : float, optional, default=1\n",
      "        Scales the angle force constant (1 is completely on)\n",
      "        For _energy_minimize_openmm\n",
      "    scale_torsions : float, optional, default=1\n",
      "        Scales the torsional force constants (1 is completely on)\n",
      "        For _energy_minimize_openmm\n",
      "        Note: Only Ryckaert-Bellemans style torsions are currently supported\n",
      "    scale_nonbonded : float, optional, default=1\n",
      "        Scales epsilon (1 is completely on)\n",
      "        For _energy_minimize_openmm\n",
      "    constraints : str, optional, default=\"AllBonds\"\n",
      "        Specify constraints on the molecule to minimize, options are:\n",
      "        None, \"HBonds\", \"AllBonds\", \"HAngles\"\n",
      "        For _energy_minimize_openmm\n",
      "    \n",
      "    References\n",
      "    ----------\n",
      "    If using _energy_minimize_openmm(), please cite:\n",
      "    \n",
      "    .. [Eastman2013] P. Eastman, M. S. Friedrichs, J. D. Chodera,\n",
      "       R. J. Radmer, C. M. Bruns, J. P. Ku, K. A. Beauchamp, T. J. Lane,\n",
      "       L.-P. Wang, D. Shukla, T. Tye, M. Houston, T. Stich, C. Klein,\n",
      "       M. R. Shirts, and V. S. Pande. \"OpenMM 4: A Reusable, Extensible,\n",
      "       Hardware Independent Library for High Performance Molecular\n",
      "       Simulation.\" J. Chem. Theor. Comput. 9(1): 461-469. (2013).\n",
      "    \n",
      "    If using _energy_minimize_openbabel(), please cite:\n",
      "    \n",
      "    .. [OBoyle2011] O'Boyle, N.M.; Banck, M.; James, C.A.; Morley, C.;\n",
      "       Vandermeersch, T.; Hutchison, G.R. \"Open Babel: An open chemical\n",
      "       toolbox.\" (2011) J. Cheminf. 3, 33\n",
      "    \n",
      "    .. [OpenBabel] Open Babel, version X.X.X http://openbabel.org,\n",
      "       (installed Month Year)\n",
      "    \n",
      "    If using the 'MMFF94' force field please also cite the following:\n",
      "    \n",
      "    .. [Halgren1996a] T.A. Halgren, \"Merck molecular force field. I. Basis,\n",
      "       form, scope, parameterization, and performance of MMFF94.\" (1996)\n",
      "       J. Comput. Chem. 17, 490-519\n",
      "    \n",
      "    .. [Halgren1996b] T.A. Halgren, \"Merck molecular force field. II. MMFF94\n",
      "       van der Waals and electrostatic parameters for intermolecular\n",
      "       interactions.\" (1996) J. Comput. Chem. 17, 520-552\n",
      "    \n",
      "    .. [Halgren1996c] T.A. Halgren, \"Merck molecular force field. III.\n",
      "       Molecular geometries and vibrational frequencies for MMFF94.\" (1996)\n",
      "       J. Comput. Chem. 17, 553-586\n",
      "    \n",
      "    .. [Halgren1996d] T.A. Halgren and R.B. Nachbar, \"Merck molecular force\n",
      "       field. IV. Conformational energies and geometries for MMFF94.\" (1996)\n",
      "       J. Comput. Chem. 17, 587-615\n",
      "    \n",
      "    .. [Halgren1996e] T.A. Halgren, \"Merck molecular force field. V.\n",
      "       Extension of MMFF94 using experimental data, additional computational\n",
      "       data, and empirical rules.\" (1996) J. Comput. Chem. 17, 616-641\n",
      "    \n",
      "    If using the 'MMFF94s' force field please cite the above along with:\n",
      "    \n",
      "    .. [Halgren1999] T.A. Halgren, \"MMFF VI. MMFF94s option for energy minimization\n",
      "       studies.\" (1999) J. Comput. Chem. 20, 720-729\n",
      "    \n",
      "    If using the 'UFF' force field please cite the following:\n",
      "    \n",
      "    .. [Rappe1992] Rappe, A.K., Casewit, C.J., Colwell, K.S., Goddard, W.A.\n",
      "       III, Skiff, W.M. \"UFF, a full periodic table force field for\n",
      "       molecular mechanics and molecular dynamics simulations.\" (1992)\n",
      "       J. Am. Chem. Soc. 114, 10024-10039\n",
      "    \n",
      "    If using the 'GAFF' force field please cite the following:\n",
      "    \n",
      "    .. [Wang2004] Wang, J., Wolf, R.M., Caldwell, J.W., Kollman, P.A.,\n",
      "       Case, D.A. \"Development and testing of a general AMBER force field\"\n",
      "       (2004) J. Comput. Chem. 25, 1157-1174\n",
      "    \n",
      "    If using the 'Ghemical' force field please cite the following:\n",
      "    \n",
      "    .. [Hassinen2001] T. Hassinen and M. Perakyla, \"New energy terms for\n",
      "       reduced protein models implemented in an off-lattice force field\"\n",
      "       (2001) J. Comput. Chem. 22, 1229-1242\n",
      "\n"
     ]
    }
   ],
   "source": [
    "help(mb.Compound.energy_minimize)"
   ]
  },
  {
   "cell_type": "markdown",
   "metadata": {},
   "source": [
    "### Packing boxes\n",
    "\n",
    "A common routine used for setting up systems is the packing of boxes with some molecule prototype. mBuild features several routines designed around the [PackMol](http://www.ime.unicamp.br/~martinez/packmol/home.shtml) utility to support this functionality. Here we'll use the `fill_box` routine to create a box filled with hexane molecules.\n",
    "\n",
    "To use the `fill_box` routine, we first need to define the dimensions of the box itself. mBuild features a basic `Box` class for defining orthogonal simulation boxes. Here we'll define a box with dimensions of 3nm x 3nm x 3nm."
   ]
  },
  {
   "cell_type": "code",
   "execution_count": 57,
   "metadata": {},
   "outputs": [
    {
     "data": {
      "text/plain": [
       "Box: Lx=3.000000, Ly=3.000000, Lz=3.000000, xy=0.000000, xz=0.000000, yz=0.000000, "
      ]
     },
     "execution_count": 57,
     "metadata": {},
     "output_type": "execute_result"
    }
   ],
   "source": [
    "box = mb.Box(lengths=[3, 3, 3])\n",
    "box"
   ]
  },
  {
   "cell_type": "markdown",
   "metadata": {},
   "source": [
    "We'll now use the `fill_box` routine to place five hexane molecules into our box."
   ]
  },
  {
   "cell_type": "code",
   "execution_count": 58,
   "metadata": {},
   "outputs": [
    {
     "data": {
      "application/3dmoljs_load.v0": "<div id=\"3dmolviewer_1658268686948514\"  style=\"position: relative; width: 640px; height: 480px\">\n        <p id=\"3dmolwarning_1658268686948514\" style=\"background-color:#ffcccc;color:black\">You appear to be running in JupyterLab (or JavaScript failed to load for some other reason).  You need to install the 3dmol extension: <br>\n        <tt>jupyter labextension install jupyterlab_3dmol</tt></p>\n        </div>\n<script>\n\nvar loadScriptAsync = function(uri){\n  return new Promise((resolve, reject) => {\n    var tag = document.createElement('script');\n    tag.src = uri;\n    tag.async = true;\n    tag.onload = () => {\n      resolve();\n    };\n  var firstScriptTag = document.getElementsByTagName('script')[0];\n  firstScriptTag.parentNode.insertBefore(tag, firstScriptTag);\n});\n};\n\nif(typeof $3Dmolpromise === 'undefined') {\n$3Dmolpromise = null;\n  $3Dmolpromise = loadScriptAsync('https://3dmol.org/build/3Dmol.js');\n}\n\nvar viewer_1658268686948514 = null;\nvar warn = document.getElementById(\"3dmolwarning_1658268686948514\");\nif(warn) {\n    warn.parentNode.removeChild(warn);\n}\n$3Dmolpromise.then(function() {\nviewer_1658268686948514 = $3Dmol.createViewer($(\"#3dmolviewer_1658268686948514\"),{backgroundColor:\"white\"});\nviewer_1658268686948514.zoomTo();\n\tviewer_1658268686948514.addModel(\"@<TRIPOS>MOLECULE\\nRES\\n100 95 1 0 1\\nSMALL\\nNO_CHARGES\\n@<TRIPOS>CRYSIN\\n   30.0000    30.0000    30.0000    90.0000    90.0000    90.0000  1  1\\n@<TRIPOS>ATOM\\n       1 C           21.0179    12.4633     3.2310 C             1 RES     \\n       2 H           20.6738    12.9861     2.3133 H             1 RES     \\n       3 H           21.3609    13.2233     3.9635 H             1 RES     \\n       4 H           20.1546    11.9075     3.6504 H             1 RES     \\n       5 C           22.1644    11.5190     2.8719 C             1 RES     \\n       6 H           21.8169    10.7802     2.1167 H             1 RES     \\n       7 H           22.9737    12.1277     2.4115 H             1 RES     \\n       8 C           22.7543    10.7830     4.0853 C             1 RES     \\n       9 H           23.6314    10.2009     3.7262 H             1 RES     \\n      10 H           23.1117    11.5232     4.8339 H             1 RES     \\n      11 C           21.7655     9.8057     4.7426 C             1 RES     \\n      12 H           21.4130     9.0788     3.9774 H             1 RES     \\n      13 H           20.8909    10.3569     5.1468 H             1 RES     \\n      14 C           22.4408     9.0382     5.8866 C             1 RES     \\n      15 H           23.3217     8.4848     5.4947 H             1 RES     \\n      16 H           22.7857     9.7536     6.6649 H             1 RES     \\n      17 C           21.4820     8.0353     6.5230 C             1 RES     \\n      18 H           21.1418     7.2957     5.7685 H             1 RES     \\n      19 H           20.5991     8.5601     6.9459 H             1 RES     \\n      20 H           22.0015     7.4937     7.3418 H             1 RES     \\n      21 C           17.9070     9.9214    18.1290 C             1 RES     \\n      22 H           18.1654    10.2835    17.1112 H             1 RES     \\n      23 H           17.3450     8.9691    18.0336 H             1 RES     \\n      24 H           18.8542     9.7394    18.6765 H             1 RES     \\n      25 C           17.0514    10.9726    18.8347 C             1 RES     \\n      26 H           17.6138    11.9299    18.8991 H             1 RES     \\n      27 H           16.1458    11.1463    18.2124 H             1 RES     \\n      28 C           16.5902    10.5458    20.2372 C             1 RES     \\n      29 H           15.9061    11.3365    20.6166 H             1 RES     \\n      30 H           16.0182     9.5949    20.1693 H             1 RES     \\n      31 C           17.7486    10.3925    21.2370 C             1 RES     \\n      32 H           18.3136    11.3499    21.2852 H             1 RES     \\n      33 H           18.4353     9.5843    20.9094 H             1 RES     \\n      34 C           17.2167    10.0556    22.6361 C             1 RES     \\n      35 H           16.5237    10.8565    22.9738 H             1 RES     \\n      36 H           16.6611     9.0929    22.6034 H             1 RES     \\n      37 C           18.3535     9.9395    23.6481 C             1 RES     \\n      38 H           18.9091    10.8981    23.7147 H             1 RES     \\n      39 H           19.0537     9.1299    23.3510 H             1 RES     \\n      40 H           17.9359     9.7009    24.6492 H             1 RES     \\n      41 C           19.2405    19.6796     5.2012 C             1 RES     \\n      42 H           19.8570    18.8426     4.8100 H             1 RES     \\n      43 H           18.3852    19.8408     4.5125 H             1 RES     \\n      44 H           18.8609    19.3850     6.2008 H             1 RES     \\n      45 C           20.0990    20.9411     5.2833 C             1 RES     \\n      46 H           20.9678    20.7584     5.9532 H             1 RES     \\n      47 H           20.4891    21.1528     4.2633 H             1 RES     \\n      48 C           19.3244    22.1788     5.7628 C             1 RES     \\n      49 H           20.0146    23.0485     5.6967 H             1 RES     \\n      50 H           18.4634    22.3665     5.0851 H             1 RES     \\n      51 C           18.8346    22.0633     7.2160 C             1 RES     \\n      52 H           19.7078    21.8676     7.8774 H             1 RES     \\n      53 H           18.1130    21.2256     7.3135 H             1 RES     \\n      54 C           18.1511    23.3622     7.6629 C             1 RES     \\n      55 H           18.8632    24.2103     7.5657 H             1 RES     \\n      56 H           17.2680    23.5616     7.0173 H             1 RES     \\n      57 C           17.6948    23.2764     9.1169 C             1 RES     \\n      58 H           18.5645    23.1004     9.7837 H             1 RES     \\n      59 H           16.9626    22.4507     9.2438 H             1 RES     \\n      60 H           17.2101    24.2317     9.4106 H             1 RES     \\n      61 C           23.2325     9.7169    19.4768 C             1 RES     \\n      62 H           22.9643    10.3261    18.5876 H             1 RES     \\n      63 H           24.3012     9.4281    19.3985 H             1 RES     \\n      64 H           23.0837    10.3458    20.3781 H             1 RES     \\n      65 C           22.3491     8.4707    19.5177 C             1 RES     \\n      66 H           21.2798     8.7725    19.5674 H             1 RES     \\n      67 H           22.5057     7.9126    18.5682 H             1 RES     \\n      68 C           22.6769     7.5258    20.6846 C             1 RES     \\n      69 H           22.0444     6.6187    20.5649 H             1 RES     \\n      70 H           23.7429     7.2159    20.6264 H             1 RES     \\n      71 C           22.3817     8.1388    22.0637 C             1 RES     \\n      72 H           21.3140     8.4499    22.1001 H             1 RES     \\n      73 H           23.0229     9.0285    22.2346 H             1 RES     \\n      74 C           22.6424     7.1173    23.1784 C             1 RES     \\n      75 H           22.0083     6.2188    23.0159 H             1 RES     \\n      76 H           23.7105     6.8086    23.1609 H             1 RES     \\n      77 C           22.3156     7.6994    24.5511 C             1 RES     \\n      78 H           21.2466     7.9940    24.5999 H             1 RES     \\n      79 H           22.9503     8.5880    24.7547 H             1 RES     \\n      80 H           22.5093     6.9354    25.3337 H             1 RES     \\n      81 C           22.3291    14.5539    26.1370 C             1 RES     \\n      82 H           23.1440    14.1023    26.7418 H             1 RES     \\n      83 H           22.1386    15.5813    26.5111 H             1 RES     \\n      84 H           22.6725    14.6009    25.0835 H             1 RES     \\n      85 C           21.0695    13.6993    26.2724 C             1 RES     \\n      86 H           21.2803    12.6653    25.9213 H             1 RES     \\n      87 H           20.8077    13.6497    27.3525 H             1 RES     \\n      88 C           19.8592    14.2683    25.5152 C             1 RES     \\n      89 H           18.9845    13.6248    25.7560 H             1 RES     \\n      90 H           19.6428    15.2974    25.8759 H             1 RES     \\n      91 C           20.0457    14.2743    23.9888 C             1 RES     \\n      92 H           20.2693    13.2389    23.6478 H             1 RES     \\n      93 H           20.8901    14.9373    23.7068 H             1 RES     \\n      94 C           18.7724    14.7665    23.2885 C             1 RES     \\n      95 H           17.9178    14.1123    23.5666 H             1 RES     \\n      96 H           18.5460    15.8063    23.6113 H             1 RES     \\n      97 C           18.9293    14.7402    21.7705 C             1 RES     \\n      98 H           19.1335    13.7062    21.4223 H             1 RES     \\n      99 H           19.7630    15.4038    21.4569 H             1 RES     \\n     100 H           17.9911    15.0962    21.2944 H             1 RES     \\n@<TRIPOS>BOND\\n       1        2        1 1\\n       2        3        1 1\\n       3        4        1 1\\n       4        5        1 1\\n       5        8        5 1\\n       6        6        5 1\\n       7        7        5 1\\n       8       11        8 1\\n       9        9        8 1\\n      10       10        8 1\\n      11       14       11 1\\n      12       12       11 1\\n      13       13       11 1\\n      14       17       14 1\\n      15       15       14 1\\n      16       16       14 1\\n      17       20       17 1\\n      18       18       17 1\\n      19       19       17 1\\n      20       22       21 1\\n      21       23       21 1\\n      22       24       21 1\\n      23       25       21 1\\n      24       28       25 1\\n      25       26       25 1\\n      26       27       25 1\\n      27       31       28 1\\n      28       29       28 1\\n      29       30       28 1\\n      30       34       31 1\\n      31       32       31 1\\n      32       33       31 1\\n      33       37       34 1\\n      34       35       34 1\\n      35       36       34 1\\n      36       40       37 1\\n      37       38       37 1\\n      38       39       37 1\\n      39       42       41 1\\n      40       43       41 1\\n      41       44       41 1\\n      42       45       41 1\\n      43       48       45 1\\n      44       46       45 1\\n      45       47       45 1\\n      46       51       48 1\\n      47       49       48 1\\n      48       50       48 1\\n      49       54       51 1\\n      50       52       51 1\\n      51       53       51 1\\n      52       57       54 1\\n      53       55       54 1\\n      54       56       54 1\\n      55       60       57 1\\n      56       58       57 1\\n      57       59       57 1\\n      58       62       61 1\\n      59       63       61 1\\n      60       64       61 1\\n      61       65       61 1\\n      62       68       65 1\\n      63       66       65 1\\n      64       67       65 1\\n      65       71       68 1\\n      66       69       68 1\\n      67       70       68 1\\n      68       74       71 1\\n      69       72       71 1\\n      70       73       71 1\\n      71       77       74 1\\n      72       75       74 1\\n      73       76       74 1\\n      74       80       77 1\\n      75       78       77 1\\n      76       79       77 1\\n      77       82       81 1\\n      78       83       81 1\\n      79       84       81 1\\n      80       85       81 1\\n      81       88       85 1\\n      82       86       85 1\\n      83       87       85 1\\n      84       91       88 1\\n      85       89       88 1\\n      86       90       88 1\\n      87       94       91 1\\n      88       92       91 1\\n      89       93       91 1\\n      90       97       94 1\\n      91       95       94 1\\n      92       96       94 1\\n      93      100       97 1\\n      94       98       97 1\\n      95       99       97 1\\n@<TRIPOS>SUBSTRUCTURE\\n       1 RES             1 RESIDUE    0 **** ROOT      0\\n\",\"mol2\");\n\tviewer_1658268686948514.setStyle({\"stick\": {\"radius\": 0.2, \"color\": \"grey\"}, \"sphere\": {\"scale\": 0.3, \"colorscheme\": {}}});\n\tviewer_1658268686948514.zoomTo();\nviewer_1658268686948514.render();\n});\n</script>",
      "text/html": [
       "<div id=\"3dmolviewer_1658268686948514\"  style=\"position: relative; width: 640px; height: 480px\">\n",
       "        <p id=\"3dmolwarning_1658268686948514\" style=\"background-color:#ffcccc;color:black\">You appear to be running in JupyterLab (or JavaScript failed to load for some other reason).  You need to install the 3dmol extension: <br>\n",
       "        <tt>jupyter labextension install jupyterlab_3dmol</tt></p>\n",
       "        </div>\n",
       "<script>\n",
       "\n",
       "var loadScriptAsync = function(uri){\n",
       "  return new Promise((resolve, reject) => {\n",
       "    var tag = document.createElement('script');\n",
       "    tag.src = uri;\n",
       "    tag.async = true;\n",
       "    tag.onload = () => {\n",
       "      resolve();\n",
       "    };\n",
       "  var firstScriptTag = document.getElementsByTagName('script')[0];\n",
       "  firstScriptTag.parentNode.insertBefore(tag, firstScriptTag);\n",
       "});\n",
       "};\n",
       "\n",
       "if(typeof $3Dmolpromise === 'undefined') {\n",
       "$3Dmolpromise = null;\n",
       "  $3Dmolpromise = loadScriptAsync('https://3dmol.org/build/3Dmol.js');\n",
       "}\n",
       "\n",
       "var viewer_1658268686948514 = null;\n",
       "var warn = document.getElementById(\"3dmolwarning_1658268686948514\");\n",
       "if(warn) {\n",
       "    warn.parentNode.removeChild(warn);\n",
       "}\n",
       "$3Dmolpromise.then(function() {\n",
       "viewer_1658268686948514 = $3Dmol.createViewer($(\"#3dmolviewer_1658268686948514\"),{backgroundColor:\"white\"});\n",
       "viewer_1658268686948514.zoomTo();\n",
       "\tviewer_1658268686948514.addModel(\"@<TRIPOS>MOLECULE\\nRES\\n100 95 1 0 1\\nSMALL\\nNO_CHARGES\\n@<TRIPOS>CRYSIN\\n   30.0000    30.0000    30.0000    90.0000    90.0000    90.0000  1  1\\n@<TRIPOS>ATOM\\n       1 C           21.0179    12.4633     3.2310 C             1 RES     \\n       2 H           20.6738    12.9861     2.3133 H             1 RES     \\n       3 H           21.3609    13.2233     3.9635 H             1 RES     \\n       4 H           20.1546    11.9075     3.6504 H             1 RES     \\n       5 C           22.1644    11.5190     2.8719 C             1 RES     \\n       6 H           21.8169    10.7802     2.1167 H             1 RES     \\n       7 H           22.9737    12.1277     2.4115 H             1 RES     \\n       8 C           22.7543    10.7830     4.0853 C             1 RES     \\n       9 H           23.6314    10.2009     3.7262 H             1 RES     \\n      10 H           23.1117    11.5232     4.8339 H             1 RES     \\n      11 C           21.7655     9.8057     4.7426 C             1 RES     \\n      12 H           21.4130     9.0788     3.9774 H             1 RES     \\n      13 H           20.8909    10.3569     5.1468 H             1 RES     \\n      14 C           22.4408     9.0382     5.8866 C             1 RES     \\n      15 H           23.3217     8.4848     5.4947 H             1 RES     \\n      16 H           22.7857     9.7536     6.6649 H             1 RES     \\n      17 C           21.4820     8.0353     6.5230 C             1 RES     \\n      18 H           21.1418     7.2957     5.7685 H             1 RES     \\n      19 H           20.5991     8.5601     6.9459 H             1 RES     \\n      20 H           22.0015     7.4937     7.3418 H             1 RES     \\n      21 C           17.9070     9.9214    18.1290 C             1 RES     \\n      22 H           18.1654    10.2835    17.1112 H             1 RES     \\n      23 H           17.3450     8.9691    18.0336 H             1 RES     \\n      24 H           18.8542     9.7394    18.6765 H             1 RES     \\n      25 C           17.0514    10.9726    18.8347 C             1 RES     \\n      26 H           17.6138    11.9299    18.8991 H             1 RES     \\n      27 H           16.1458    11.1463    18.2124 H             1 RES     \\n      28 C           16.5902    10.5458    20.2372 C             1 RES     \\n      29 H           15.9061    11.3365    20.6166 H             1 RES     \\n      30 H           16.0182     9.5949    20.1693 H             1 RES     \\n      31 C           17.7486    10.3925    21.2370 C             1 RES     \\n      32 H           18.3136    11.3499    21.2852 H             1 RES     \\n      33 H           18.4353     9.5843    20.9094 H             1 RES     \\n      34 C           17.2167    10.0556    22.6361 C             1 RES     \\n      35 H           16.5237    10.8565    22.9738 H             1 RES     \\n      36 H           16.6611     9.0929    22.6034 H             1 RES     \\n      37 C           18.3535     9.9395    23.6481 C             1 RES     \\n      38 H           18.9091    10.8981    23.7147 H             1 RES     \\n      39 H           19.0537     9.1299    23.3510 H             1 RES     \\n      40 H           17.9359     9.7009    24.6492 H             1 RES     \\n      41 C           19.2405    19.6796     5.2012 C             1 RES     \\n      42 H           19.8570    18.8426     4.8100 H             1 RES     \\n      43 H           18.3852    19.8408     4.5125 H             1 RES     \\n      44 H           18.8609    19.3850     6.2008 H             1 RES     \\n      45 C           20.0990    20.9411     5.2833 C             1 RES     \\n      46 H           20.9678    20.7584     5.9532 H             1 RES     \\n      47 H           20.4891    21.1528     4.2633 H             1 RES     \\n      48 C           19.3244    22.1788     5.7628 C             1 RES     \\n      49 H           20.0146    23.0485     5.6967 H             1 RES     \\n      50 H           18.4634    22.3665     5.0851 H             1 RES     \\n      51 C           18.8346    22.0633     7.2160 C             1 RES     \\n      52 H           19.7078    21.8676     7.8774 H             1 RES     \\n      53 H           18.1130    21.2256     7.3135 H             1 RES     \\n      54 C           18.1511    23.3622     7.6629 C             1 RES     \\n      55 H           18.8632    24.2103     7.5657 H             1 RES     \\n      56 H           17.2680    23.5616     7.0173 H             1 RES     \\n      57 C           17.6948    23.2764     9.1169 C             1 RES     \\n      58 H           18.5645    23.1004     9.7837 H             1 RES     \\n      59 H           16.9626    22.4507     9.2438 H             1 RES     \\n      60 H           17.2101    24.2317     9.4106 H             1 RES     \\n      61 C           23.2325     9.7169    19.4768 C             1 RES     \\n      62 H           22.9643    10.3261    18.5876 H             1 RES     \\n      63 H           24.3012     9.4281    19.3985 H             1 RES     \\n      64 H           23.0837    10.3458    20.3781 H             1 RES     \\n      65 C           22.3491     8.4707    19.5177 C             1 RES     \\n      66 H           21.2798     8.7725    19.5674 H             1 RES     \\n      67 H           22.5057     7.9126    18.5682 H             1 RES     \\n      68 C           22.6769     7.5258    20.6846 C             1 RES     \\n      69 H           22.0444     6.6187    20.5649 H             1 RES     \\n      70 H           23.7429     7.2159    20.6264 H             1 RES     \\n      71 C           22.3817     8.1388    22.0637 C             1 RES     \\n      72 H           21.3140     8.4499    22.1001 H             1 RES     \\n      73 H           23.0229     9.0285    22.2346 H             1 RES     \\n      74 C           22.6424     7.1173    23.1784 C             1 RES     \\n      75 H           22.0083     6.2188    23.0159 H             1 RES     \\n      76 H           23.7105     6.8086    23.1609 H             1 RES     \\n      77 C           22.3156     7.6994    24.5511 C             1 RES     \\n      78 H           21.2466     7.9940    24.5999 H             1 RES     \\n      79 H           22.9503     8.5880    24.7547 H             1 RES     \\n      80 H           22.5093     6.9354    25.3337 H             1 RES     \\n      81 C           22.3291    14.5539    26.1370 C             1 RES     \\n      82 H           23.1440    14.1023    26.7418 H             1 RES     \\n      83 H           22.1386    15.5813    26.5111 H             1 RES     \\n      84 H           22.6725    14.6009    25.0835 H             1 RES     \\n      85 C           21.0695    13.6993    26.2724 C             1 RES     \\n      86 H           21.2803    12.6653    25.9213 H             1 RES     \\n      87 H           20.8077    13.6497    27.3525 H             1 RES     \\n      88 C           19.8592    14.2683    25.5152 C             1 RES     \\n      89 H           18.9845    13.6248    25.7560 H             1 RES     \\n      90 H           19.6428    15.2974    25.8759 H             1 RES     \\n      91 C           20.0457    14.2743    23.9888 C             1 RES     \\n      92 H           20.2693    13.2389    23.6478 H             1 RES     \\n      93 H           20.8901    14.9373    23.7068 H             1 RES     \\n      94 C           18.7724    14.7665    23.2885 C             1 RES     \\n      95 H           17.9178    14.1123    23.5666 H             1 RES     \\n      96 H           18.5460    15.8063    23.6113 H             1 RES     \\n      97 C           18.9293    14.7402    21.7705 C             1 RES     \\n      98 H           19.1335    13.7062    21.4223 H             1 RES     \\n      99 H           19.7630    15.4038    21.4569 H             1 RES     \\n     100 H           17.9911    15.0962    21.2944 H             1 RES     \\n@<TRIPOS>BOND\\n       1        2        1 1\\n       2        3        1 1\\n       3        4        1 1\\n       4        5        1 1\\n       5        8        5 1\\n       6        6        5 1\\n       7        7        5 1\\n       8       11        8 1\\n       9        9        8 1\\n      10       10        8 1\\n      11       14       11 1\\n      12       12       11 1\\n      13       13       11 1\\n      14       17       14 1\\n      15       15       14 1\\n      16       16       14 1\\n      17       20       17 1\\n      18       18       17 1\\n      19       19       17 1\\n      20       22       21 1\\n      21       23       21 1\\n      22       24       21 1\\n      23       25       21 1\\n      24       28       25 1\\n      25       26       25 1\\n      26       27       25 1\\n      27       31       28 1\\n      28       29       28 1\\n      29       30       28 1\\n      30       34       31 1\\n      31       32       31 1\\n      32       33       31 1\\n      33       37       34 1\\n      34       35       34 1\\n      35       36       34 1\\n      36       40       37 1\\n      37       38       37 1\\n      38       39       37 1\\n      39       42       41 1\\n      40       43       41 1\\n      41       44       41 1\\n      42       45       41 1\\n      43       48       45 1\\n      44       46       45 1\\n      45       47       45 1\\n      46       51       48 1\\n      47       49       48 1\\n      48       50       48 1\\n      49       54       51 1\\n      50       52       51 1\\n      51       53       51 1\\n      52       57       54 1\\n      53       55       54 1\\n      54       56       54 1\\n      55       60       57 1\\n      56       58       57 1\\n      57       59       57 1\\n      58       62       61 1\\n      59       63       61 1\\n      60       64       61 1\\n      61       65       61 1\\n      62       68       65 1\\n      63       66       65 1\\n      64       67       65 1\\n      65       71       68 1\\n      66       69       68 1\\n      67       70       68 1\\n      68       74       71 1\\n      69       72       71 1\\n      70       73       71 1\\n      71       77       74 1\\n      72       75       74 1\\n      73       76       74 1\\n      74       80       77 1\\n      75       78       77 1\\n      76       79       77 1\\n      77       82       81 1\\n      78       83       81 1\\n      79       84       81 1\\n      80       85       81 1\\n      81       88       85 1\\n      82       86       85 1\\n      83       87       85 1\\n      84       91       88 1\\n      85       89       88 1\\n      86       90       88 1\\n      87       94       91 1\\n      88       92       91 1\\n      89       93       91 1\\n      90       97       94 1\\n      91       95       94 1\\n      92       96       94 1\\n      93      100       97 1\\n      94       98       97 1\\n      95       99       97 1\\n@<TRIPOS>SUBSTRUCTURE\\n       1 RES             1 RESIDUE    0 **** ROOT      0\\n\",\"mol2\");\n",
       "\tviewer_1658268686948514.setStyle({\"stick\": {\"radius\": 0.2, \"color\": \"grey\"}, \"sphere\": {\"scale\": 0.3, \"colorscheme\": {}}});\n",
       "\tviewer_1658268686948514.zoomTo();\n",
       "viewer_1658268686948514.render();\n",
       "});\n",
       "</script>"
      ]
     },
     "metadata": {},
     "output_type": "display_data"
    },
    {
     "data": {
      "text/plain": [
       "<py3Dmol.view at 0x16d4e01c0>"
      ]
     },
     "execution_count": 58,
     "metadata": {},
     "output_type": "execute_result"
    }
   ],
   "source": [
    "filled_box = mb.fill_box(hexane, n_compounds=5, box=box)\n",
    "filled_box.visualize()"
   ]
  },
  {
   "cell_type": "markdown",
   "metadata": {},
   "source": [
    "### One last demo: Saving molecular topologies\n",
    "\n",
    "One last demonstration we will examine is how data files can be written from mBuild `Compounds`. `mBuild` supports saving out to several file formats (e.g., XYZ, PDB, MOL2, GRO), utilized internal writers or external backend, such as `ParmEd`, and `GMSO`. Provided a forcefield, which will introduced in later tutorial, `mBuild` could also write out parameterized file (e.g., TOP, LAMMPSDATA) for subsequent simulation step."
   ]
  },
  {
   "cell_type": "code",
   "execution_count": 59,
   "metadata": {},
   "outputs": [
    {
     "name": "stdout",
     "output_type": "stream",
     "text": [
      "GROningen MAchine for Chemical Simulation\r\n",
      "  100\r\n",
      "    1RES      C    1   2.445   1.067   0.604\r\n",
      "    1RES      H    2   2.430   0.998   0.519\r\n",
      "    1RES      H    3   2.459   1.135   0.689\r\n",
      "    1RES      C    4   2.307   1.065   0.629\r\n",
      "    1RES      H    5   2.292   0.996   0.544\r\n",
      "    1RES      H    6   2.321   1.133   0.714\r\n",
      "    1RES      C    7   2.169   1.063   0.654\r\n",
      "    1RES      H    8   2.155   0.994   0.569\r\n"
     ]
    }
   ],
   "source": [
    "from mbuild.lib.recipes import Alkane\n",
    "hexane = Alkane(6)\n",
    "hexane_box = mb.fill_box(hexane, n_compounds=5, box=mb.Box(lengths=[3, 3, 3]))\n",
    "hexane_box.save('hexanes.gro', overwrite=True)\n",
    "! head hexanes.gro"
   ]
  },
  {
   "cell_type": "code",
   "execution_count": null,
   "metadata": {},
   "outputs": [],
   "source": []
  }
 ],
 "metadata": {
  "anaconda-cloud": {},
  "kernelspec": {
   "display_name": "Python 3",
   "language": "python",
   "name": "python3"
  },
  "language_info": {
   "codemirror_mode": {
    "name": "ipython",
    "version": 3
   },
   "file_extension": ".py",
   "mimetype": "text/x-python",
   "name": "python",
   "nbconvert_exporter": "python",
   "pygments_lexer": "ipython3",
   "version": "3.9.13"
  }
 },
 "nbformat": 4,
 "nbformat_minor": 1
}
